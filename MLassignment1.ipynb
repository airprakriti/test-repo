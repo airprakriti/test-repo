{
  "nbformat": 4,
  "nbformat_minor": 0,
  "metadata": {
    "colab": {
      "provenance": [],
      "authorship_tag": "ABX9TyPVLmXQEanERN7S9cBC3J2n",
      "include_colab_link": true
    },
    "kernelspec": {
      "name": "python3",
      "display_name": "Python 3"
    },
    "language_info": {
      "name": "python"
    }
  },
  "cells": [
    {
      "cell_type": "markdown",
      "metadata": {
        "id": "view-in-github",
        "colab_type": "text"
      },
      "source": [
        "<a href=\"https://colab.research.google.com/github/airprakriti/test-repo/blob/main/MLassignment1.ipynb\" target=\"_parent\"><img src=\"https://colab.research.google.com/assets/colab-badge.svg\" alt=\"Open In Colab\"/></a>"
      ]
    },
    {
      "cell_type": "markdown",
      "source": [
        " Q-1 a)"
      ],
      "metadata": {
        "id": "lmFA_qu3sdbX"
      }
    },
    {
      "cell_type": "code",
      "source": [
        "import numpy as n\n",
        "arr=[1,2,3,4,5,6,7]\n",
        "reverse_arr=arr[::-1]\n",
        "print(reverse_arr)"
      ],
      "metadata": {
        "colab": {
          "base_uri": "https://localhost:8080/"
        },
        "id": "4i4ZgCsFsedk",
        "outputId": "a70f17dd-1b7e-4d80-fe9f-d8c91694b956"
      },
      "execution_count": null,
      "outputs": [
        {
          "output_type": "stream",
          "name": "stdout",
          "text": [
            "[7, 6, 5, 4, 3, 2, 1]\n"
          ]
        }
      ]
    },
    {
      "cell_type": "code",
      "source": [
        "import numpy as n\n",
        "arr=[1,2,3,4,5,6,7]\n",
        "reverse_arr=n.flip(arr)\n",
        "print(reverse_arr)"
      ],
      "metadata": {
        "colab": {
          "base_uri": "https://localhost:8080/"
        },
        "id": "VQPlAGQr_3kH",
        "outputId": "00d413da-b940-42e7-b702-49f5e2b23a09"
      },
      "execution_count": null,
      "outputs": [
        {
          "output_type": "stream",
          "name": "stdout",
          "text": [
            "[7 6 5 4 3 2 1]\n"
          ]
        }
      ]
    },
    {
      "cell_type": "markdown",
      "source": [
        "Q-1 b)"
      ],
      "metadata": {
        "id": "kRWOmeJw-fcE"
      }
    },
    {
      "cell_type": "code",
      "source": [
        "import numpy as n\n",
        "arr=[[1,2,3],[4,5,6]]\n",
        "flat=n.array([i for sublist in arr for i in sublist])\n",
        "print(flat)"
      ],
      "metadata": {
        "colab": {
          "base_uri": "https://localhost:8080/"
        },
        "id": "Cq4gKeQK-gEw",
        "outputId": "8b828203-31e4-4c6d-c8b6-ace71bb7d672"
      },
      "execution_count": null,
      "outputs": [
        {
          "output_type": "stream",
          "name": "stdout",
          "text": [
            "[1 2 3 4 5 6]\n"
          ]
        }
      ]
    },
    {
      "cell_type": "code",
      "source": [
        "import numpy as n\n",
        "arr=[[1,2,3],[4,5,6]]\n",
        "flatten_arr=n.ravel(arr)\n",
        "print(flatten_arr)"
      ],
      "metadata": {
        "colab": {
          "base_uri": "https://localhost:8080/"
        },
        "id": "3JLbWKATAMGo",
        "outputId": "967f24db-27a3-4c11-de99-8b228d47e501"
      },
      "execution_count": null,
      "outputs": [
        {
          "output_type": "stream",
          "name": "stdout",
          "text": [
            "[1 2 3 4 5 6]\n"
          ]
        }
      ]
    },
    {
      "cell_type": "markdown",
      "source": [
        "Q-1 c)"
      ],
      "metadata": {
        "id": "4xHYhpd5AlRv"
      }
    },
    {
      "cell_type": "code",
      "source": [
        "import numpy as n\n",
        "arr1=[[1,2,3],[4,5,6]]\n",
        "arr2=[[1,2,3],[4,5,6]]\n",
        "if (n.array_equal(arr1,arr2)):\n",
        " print(\"equal\")\n",
        "else:\n",
        "  print(\"unequal\")"
      ],
      "metadata": {
        "colab": {
          "base_uri": "https://localhost:8080/"
        },
        "id": "AqcVwec_ApQ3",
        "outputId": "a1f014bf-8a8c-4838-e579-bf8cc5a6efb3"
      },
      "execution_count": null,
      "outputs": [
        {
          "output_type": "stream",
          "name": "stdout",
          "text": [
            "unequal\n"
          ]
        }
      ]
    },
    {
      "cell_type": "markdown",
      "source": [
        "Q-1 d) **DOUBT**"
      ],
      "metadata": {
        "id": "-yDZTACtB2QL"
      }
    },
    {
      "cell_type": "code",
      "source": [
        "import numpy as np\n",
        "\n",
        "# Given array\n",
        "x = np.array([4,6,6,9,0,6,9,5,6])\n",
        "\n",
        "# Finding the most frequent value using numpy\n",
        "unique,counts = np.unique(x, return_counts=True)\n",
        "most_common_value = unique[np.argmax(counts)]\n",
        "\n",
        "# Finding the indices of the most frequent value\n",
        "indices = np.where(x == most_common_value)[0]\n",
        "\n",
        "print(\"Most frequent value:\", most_common_value)\n",
        "print(\"Indices of the most frequent value:\", indices)\n"
      ],
      "metadata": {
        "colab": {
          "base_uri": "https://localhost:8080/"
        },
        "id": "SYw4ieuxB4yq",
        "outputId": "2c3d8acc-8e39-4470-d364-b11ea39d72e0"
      },
      "execution_count": null,
      "outputs": [
        {
          "output_type": "stream",
          "name": "stdout",
          "text": [
            "Most frequent value: 6\n",
            "Indices of the most frequent value: [1 2 5 8]\n"
          ]
        }
      ]
    },
    {
      "cell_type": "markdown",
      "source": [
        "Q-1 e)"
      ],
      "metadata": {
        "id": "-FXOHYCP-f0d"
      }
    },
    {
      "cell_type": "code",
      "source": [
        "import numpy as np\n",
        "\n",
        "gfg = np.matrix('[4, 1, 9; 12, 3, 1; 4, 5, 6]')\n",
        "total_sum = np.sum(gfg)\n",
        "print(total_sum)\n"
      ],
      "metadata": {
        "colab": {
          "base_uri": "https://localhost:8080/"
        },
        "id": "L95iNanO-h_i",
        "outputId": "369e8b65-a20f-498b-9ba0-fed35c47223b"
      },
      "execution_count": null,
      "outputs": [
        {
          "output_type": "stream",
          "name": "stdout",
          "text": [
            "45\n"
          ]
        }
      ]
    },
    {
      "cell_type": "code",
      "source": [
        "import numpy as np\n",
        "\n",
        "gfg = np.matrix('[4, 1, 9; 12, 3, 1; 4, 5, 6]')\n",
        "row_wise_sum = np.sum(gfg, axis=1)\n",
        "print(row_wise_sum)\n",
        "\n"
      ],
      "metadata": {
        "colab": {
          "base_uri": "https://localhost:8080/"
        },
        "id": "P8Omucge_kfu",
        "outputId": "1d897e28-d607-4634-daee-a8a101a0cea0"
      },
      "execution_count": null,
      "outputs": [
        {
          "output_type": "stream",
          "name": "stdout",
          "text": [
            "[[14]\n",
            " [16]\n",
            " [15]]\n"
          ]
        }
      ]
    },
    {
      "cell_type": "code",
      "source": [
        "import numpy as n\n",
        "\n",
        "gfg = n.matrix('[4, 1, 9; 12, 3, 1; 4, 5, 6]')\n",
        "column_wise_sum = n.sum(gfg, axis=0)\n",
        "column_wise_sum\n"
      ],
      "metadata": {
        "colab": {
          "base_uri": "https://localhost:8080/"
        },
        "id": "PA7st8yx_9FJ",
        "outputId": "ad2b60fe-ca1e-4442-b76c-85cde41f9aa5"
      },
      "execution_count": null,
      "outputs": [
        {
          "output_type": "execute_result",
          "data": {
            "text/plain": [
              "matrix([[20,  9, 16]])"
            ]
          },
          "metadata": {},
          "execution_count": 1
        }
      ]
    },
    {
      "cell_type": "markdown",
      "source": [
        "Q-1 f)"
      ],
      "metadata": {
        "id": "f6cvdGXwAN-b"
      }
    },
    {
      "cell_type": "code",
      "source": [
        "import numpy as np\n",
        "#n_array = np.array([[55, 25, 15], [30, 44, 2], [11, 45, 77]])\n",
        "gfg = np.matrix('[4, 1, 9; 12, 3, 1; 4, 5, 6]')\n",
        "diagonal_sum = np.sum(np.diagonal(gfg))\n",
        "diagonal_sum"
      ],
      "metadata": {
        "colab": {
          "base_uri": "https://localhost:8080/"
        },
        "id": "2TKRwJlPBiS8",
        "outputId": "4d9e99ce-0465-4bdb-e39a-f1dc87ea7047"
      },
      "execution_count": null,
      "outputs": [
        {
          "output_type": "execute_result",
          "data": {
            "text/plain": [
              "13"
            ]
          },
          "metadata": {},
          "execution_count": 21
        }
      ]
    },
    {
      "cell_type": "code",
      "source": [
        "import numpy as np\n",
        "#sum of the eigenvalues of a matrix is equal to the trace of the matrix\n",
        "n_array = np.array([[55, 25, 15], [30, 44, 2], [11, 45, 77]])\n",
        "eigenvalues = np.linalg.eigvals(n_array)#This line computes the eigenvalues of the matrix n_array using the eigvals function from the numpy.linalg module. The eigenvalues are stored in the variable eigenvalues.\n",
        "sum_eigen= np.sum(eigenvalues)\n",
        "print(sum_eigen)\n"
      ],
      "metadata": {
        "colab": {
          "base_uri": "https://localhost:8080/"
        },
        "id": "Zv3qqazMOU3q",
        "outputId": "16f6fffb-fd0d-47bc-c949-32812e1a8673"
      },
      "execution_count": null,
      "outputs": [
        {
          "output_type": "stream",
          "name": "stdout",
          "text": [
            "176.0000000000001\n"
          ]
        }
      ]
    },
    {
      "cell_type": "code",
      "source": [
        "import numpy as np\n",
        "\n",
        "n_array = np.array([[55, 25, 15], [30, 44, 2], [11, 45, 77]])\n",
        "eigenvalues, eigenvectors = np.linalg.eig(n_array)\n",
        "\n",
        "# Sum of all elements of the eigenvectors matrix\n",
        "sum_eigenvectors = np.sum(eigenvectors)\n",
        "print(sum_eigenvectors)\n"
      ],
      "metadata": {
        "colab": {
          "base_uri": "https://localhost:8080/"
        },
        "id": "PQpRvAvdP6rd",
        "outputId": "401bddfe-0e29-4389-e7ba-e1dcf305ace2"
      },
      "execution_count": null,
      "outputs": [
        {
          "output_type": "stream",
          "name": "stdout",
          "text": [
            "2.0208354705104603\n"
          ]
        }
      ]
    },
    {
      "cell_type": "code",
      "source": [
        "import numpy as np\n",
        "\n",
        "n_array = np.array([[55, 25, 15], [30, 44, 2], [11, 45, 77]])\n",
        "inverse_matrix = np.linalg.inv(n_array)\n",
        "print(inverse_matrix)\n"
      ],
      "metadata": {
        "colab": {
          "base_uri": "https://localhost:8080/"
        },
        "id": "-kMKbUyyUC7v",
        "outputId": "4c92f0ac-b82e-4944-fdee-41257f80f0f1"
      },
      "execution_count": null,
      "outputs": [
        {
          "output_type": "stream",
          "name": "stdout",
          "text": [
            "[[ 0.02404141 -0.00911212 -0.00444671]\n",
            " [-0.01667882  0.02966905  0.0024785 ]\n",
            " [ 0.00631287 -0.01603732  0.01217379]]\n"
          ]
        }
      ]
    },
    {
      "cell_type": "code",
      "source": [
        "import numpy as np\n",
        "\n",
        "n_array = np.array([[55, 25, 15], [30, 44, 2], [11, 45, 77]])\n",
        "determinant = np.linalg.det(n_array)\n",
        "print(determinant)\n"
      ],
      "metadata": {
        "colab": {
          "base_uri": "https://localhost:8080/"
        },
        "id": "DVEiEgh6Ucz4",
        "outputId": "52120e2d-c5d1-40af-ee43-3fee720c6d95"
      },
      "execution_count": null,
      "outputs": [
        {
          "output_type": "stream",
          "name": "stdout",
          "text": [
            "137180.0000000001\n"
          ]
        }
      ]
    },
    {
      "cell_type": "markdown",
      "source": [
        "Q-1 g)"
      ],
      "metadata": {
        "id": "RsyOmHYxFup3"
      }
    },
    {
      "cell_type": "code",
      "source": [
        "import numpy as np\n",
        "\n",
        "# Define the matrices\n",
        "#p = np.array([[1, 2], [2, 3]])\n",
        "#q = np.array([[4, 5], [6, 7]])\n",
        "p = np.array([[1, 2], [2, 3], [4, 5]])\n",
        "q = np.array([[4, 5, 1], [6, 7, 2]])\n",
        "\n",
        "\n",
        "# Matrix multiplication\n",
        "result_mult = np.dot(p, q)\n",
        "\n",
        "# Flatten the matrices and stack them\n",
        "p_flat = p.flatten()\n",
        "q_flat = q.flatten()\n",
        "data = np.stack((p_flat, q_flat), axis=0)\n",
        "\n",
        "# Calculate covariance matrix\n",
        "cov_matrix = np.cov(data)\n",
        "\n",
        "print(\"Matrix Multiplication Result:\")\n",
        "print(result_mult)\n",
        "\n",
        "print(\"\\nCovariance Matrix:\")\n",
        "print(cov_matrix)\n"
      ],
      "metadata": {
        "colab": {
          "base_uri": "https://localhost:8080/"
        },
        "id": "eq2z9BpbF0Zu",
        "outputId": "7531126c-ff3f-407e-e9f5-50daa080de49"
      },
      "execution_count": null,
      "outputs": [
        {
          "output_type": "stream",
          "name": "stdout",
          "text": [
            "Matrix Multiplication Result:\n",
            "[[16 19  5]\n",
            " [26 31  8]\n",
            " [46 55 14]]\n",
            "\n",
            "Covariance Matrix:\n",
            "[[2.16666667 0.23333333]\n",
            " [0.23333333 5.36666667]]\n"
          ]
        }
      ]
    },
    {
      "cell_type": "markdown",
      "source": [
        "Q-1 h)"
      ],
      "metadata": {
        "id": "0hAXV9H1eicX"
      }
    },
    {
      "cell_type": "code",
      "source": [
        "#INNER PRODUCT\n",
        "import numpy as np\n",
        "\n",
        "# Define the matrices\n",
        "x = np.array([[2, 3, 4], [3, 2, 9]])\n",
        "y = np.array([[1, 5, 0], [5, 10, 3]])\n",
        "\n",
        "# Calculate the Frobenius inner product\n",
        "inner_product = np.sum(x * y)\n",
        "\n",
        "# Print the result\n",
        "print(\"Frobenius inner product:\", inner_product)\n"
      ],
      "metadata": {
        "colab": {
          "base_uri": "https://localhost:8080/"
        },
        "id": "NscPWIKxemkG",
        "outputId": "f58b8bf5-0fbd-45e8-ceb2-db8ad7e0b606"
      },
      "execution_count": null,
      "outputs": [
        {
          "output_type": "stream",
          "name": "stdout",
          "text": [
            "Frobenius inner product: 79\n"
          ]
        }
      ]
    },
    {
      "cell_type": "code",
      "source": [
        "#OUTER PRODUCT\n",
        "import numpy as np\n",
        "\n",
        "# Define the matrices\n",
        "x = np.array([[1, 2], [3, 4]])\n",
        "y = np.array([[0, 5], [6, 7]])\n",
        "\n",
        "# Flatten the matrices to treat them as vectors\n",
        "x_flat = x.flatten()\n",
        "y_flat = y.flatten()\n",
        "\n",
        "# Calculate the outer product\n",
        "outer_product = np.outer(x_flat, y_flat)\n",
        "\n",
        "# Print the result\n",
        "print(\"Outer product:\\n\", outer_product)\n"
      ],
      "metadata": {
        "colab": {
          "base_uri": "https://localhost:8080/"
        },
        "id": "4m32lbRs4m7-",
        "outputId": "567ce475-242a-4fde-e03b-74151243c3b7"
      },
      "execution_count": null,
      "outputs": [
        {
          "output_type": "stream",
          "name": "stdout",
          "text": [
            "Outer product:\n",
            " [[ 0  5  6  7]\n",
            " [ 0 10 12 14]\n",
            " [ 0 15 18 21]\n",
            " [ 0 20 24 28]]\n"
          ]
        }
      ]
    },
    {
      "cell_type": "code",
      "source": [
        "import numpy as np\n",
        "\n",
        "# Define the matrices\n",
        "x = np.array([[2, 3, 4], [3, 2, 9]])\n",
        "y = np.array([[1, 5, 0], [5, 10, 3]])\n",
        "\n",
        "# Calculate the Cartesian product using meshgrid\n",
        "X, Y = np.meshgrid(x, y)\n",
        "\n",
        "# Combine the matrices into a 3D array representing the Cartesian product\n",
        "cartesian_product = np.stack((X, Y), axis=-1)\n",
        "\n",
        "# Print the resulting Cartesian product\n",
        "print(cartesian_product)\n"
      ],
      "metadata": {
        "colab": {
          "base_uri": "https://localhost:8080/"
        },
        "id": "4AQEFMBZ85LV",
        "outputId": "ad382290-ce8e-4988-8a3e-c532b0efe881"
      },
      "execution_count": null,
      "outputs": [
        {
          "output_type": "stream",
          "name": "stdout",
          "text": [
            "[[[ 2  1]\n",
            "  [ 3  1]\n",
            "  [ 4  1]\n",
            "  [ 3  1]\n",
            "  [ 2  1]\n",
            "  [ 9  1]]\n",
            "\n",
            " [[ 2  5]\n",
            "  [ 3  5]\n",
            "  [ 4  5]\n",
            "  [ 3  5]\n",
            "  [ 2  5]\n",
            "  [ 9  5]]\n",
            "\n",
            " [[ 2  0]\n",
            "  [ 3  0]\n",
            "  [ 4  0]\n",
            "  [ 3  0]\n",
            "  [ 2  0]\n",
            "  [ 9  0]]\n",
            "\n",
            " [[ 2  5]\n",
            "  [ 3  5]\n",
            "  [ 4  5]\n",
            "  [ 3  5]\n",
            "  [ 2  5]\n",
            "  [ 9  5]]\n",
            "\n",
            " [[ 2 10]\n",
            "  [ 3 10]\n",
            "  [ 4 10]\n",
            "  [ 3 10]\n",
            "  [ 2 10]\n",
            "  [ 9 10]]\n",
            "\n",
            " [[ 2  3]\n",
            "  [ 3  3]\n",
            "  [ 4  3]\n",
            "  [ 3  3]\n",
            "  [ 2  3]\n",
            "  [ 9  3]]]\n"
          ]
        }
      ]
    },
    {
      "cell_type": "markdown",
      "source": [
        "Q-2 (a)"
      ],
      "metadata": {
        "id": "kqYEbqLoEjZ2"
      }
    },
    {
      "cell_type": "code",
      "source": [
        "import numpy as np\n",
        "\n",
        "array = np.array([[1, -2, 3], [-4, 5, -6]])\n",
        "\n",
        "absolute_values = np.abs(array)\n",
        "\n",
        "print(absolute_values)\n"
      ],
      "metadata": {
        "colab": {
          "base_uri": "https://localhost:8080/"
        },
        "id": "HWJtt0YpEo08",
        "outputId": "51066fee-7825-4b2f-98e4-5158d287be33"
      },
      "execution_count": null,
      "outputs": [
        {
          "output_type": "stream",
          "name": "stdout",
          "text": [
            "[[1 2 3]\n",
            " [4 5 6]]\n"
          ]
        }
      ]
    },
    {
      "cell_type": "code",
      "source": [
        "import numpy as np\n",
        "\n",
        "array = np.array([[1, -2, 3], [-4, 5, -6]])\n",
        "\n",
        "flattened_array = array.flatten()\n",
        "\n",
        "percentiles_flattened = np.percentile(flattened_array, [25, 50, 75])\n",
        "print(\"Percentiles for flattened array:\", percentiles_flattened)\n",
        "\n",
        "percentiles_columns = np.percentile(array, [25, 50, 75], axis=0)\n",
        "print(\"Percentiles for each column:\\n\", percentiles_columns)\n",
        "\n",
        "percentiles_rows = np.percentile(array, [25, 50, 75], axis=1)\n",
        "print(\"Percentiles for each row:\\n\", percentiles_rows)\n"
      ],
      "metadata": {
        "colab": {
          "base_uri": "https://localhost:8080/"
        },
        "id": "KcRhP0b6HC2j",
        "outputId": "cca21f60-4686-40b3-af5c-35ff1ebf3307"
      },
      "execution_count": null,
      "outputs": [
        {
          "output_type": "stream",
          "name": "stdout",
          "text": [
            "Percentiles for flattened array: [-3.5 -0.5  2.5]\n",
            "Percentiles for each column:\n",
            " [[-2.75 -0.25 -3.75]\n",
            " [-1.5   1.5  -1.5 ]\n",
            " [-0.25  3.25  0.75]]\n",
            "Percentiles for each row:\n",
            " [[-0.5 -5. ]\n",
            " [ 1.  -4. ]\n",
            " [ 2.   0.5]]\n"
          ]
        }
      ]
    },
    {
      "cell_type": "code",
      "source": [
        "import numpy as np\n",
        "\n",
        "array = np.array([[1, -2, 3], [-4, 5, -6]])\n",
        "\n",
        "# Flatten the array\n",
        "flattened_array = array.flatten()\n",
        "\n",
        "# Mean, median, and standard deviation for flattened array\n",
        "mean_flattened = np.mean(flattened_array)\n",
        "median_flattened = np.median(flattened_array)\n",
        "std_flattened = np.std(flattened_array)\n",
        "\n",
        "# Mean, median, and standard deviation for each column\n",
        "mean_columns = np.mean(array, axis=0)\n",
        "median_columns = np.median(array, axis=0)\n",
        "std_columns = np.std(array, axis=0)\n",
        "\n",
        "# Mean, median, and standard deviation for each row\n",
        "mean_rows = np.mean(array, axis=1)\n",
        "median_rows = np.median(array, axis=1)\n",
        "std_rows = np.std(array, axis=1)\n",
        "\n",
        "print(\"Flattened array:\")\n",
        "print(\"Mean:\", mean_flattened)\n",
        "print(\"Median:\", median_flattened)\n",
        "print(\"Standard Deviation:\", std_flattened)\n",
        "\n",
        "print(\"\\nColumns:\")\n",
        "print(\"Mean:\", mean_columns)\n",
        "print(\"Median:\", median_columns)\n",
        "print(\"Standard Deviation:\", std_columns)\n",
        "\n",
        "print(\"\\nRows:\")\n",
        "print(\"Mean:\", mean_rows)\n",
        "print(\"Median:\", median_rows)\n",
        "print(\"Standard Deviation:\", std_rows)\n"
      ],
      "metadata": {
        "colab": {
          "base_uri": "https://localhost:8080/"
        },
        "id": "IEw5MylPQd7x",
        "outputId": "c0f8e3a4-44d1-4a71-8587-da7bb6d72afe"
      },
      "execution_count": null,
      "outputs": [
        {
          "output_type": "stream",
          "name": "stdout",
          "text": [
            "Flattened array:\n",
            "Mean: -0.5\n",
            "Median: -0.5\n",
            "Standard Deviation: 3.8622100754188224\n",
            "\n",
            "Columns:\n",
            "Mean: [-1.5  1.5 -1.5]\n",
            "Median: [-1.5  1.5 -1.5]\n",
            "Standard Deviation: [2.5 3.5 4.5]\n",
            "\n",
            "Rows:\n",
            "Mean: [ 0.66666667 -1.66666667]\n",
            "Median: [ 1. -4.]\n",
            "Standard Deviation: [2.05480467 4.78423336]\n"
          ]
        }
      ]
    },
    {
      "cell_type": "markdown",
      "source": [
        "Q-2 (b)"
      ],
      "metadata": {
        "id": "ikxb_WqARUc9"
      }
    },
    {
      "cell_type": "code",
      "source": [
        "import numpy as np\n",
        "\n",
        "a =[-1.8, -1.6, -0.5, 0.5, 1.6, 1.8, 3.0]\n",
        "\n",
        "# Floor\n",
        "floor_values = np.floor(a)\n",
        "\n",
        "# Ceiling\n",
        "ceil_values = np.ceil(a)\n",
        "\n",
        "# Truncated values\n",
        "trunc_values = np.trunc(a)\n",
        "\n",
        "# Rounded values\n",
        "round_values = np.round(a)\n",
        "\n",
        "print(\"Floor values:\", floor_values)\n",
        "print(\"Ceiling values:\", ceil_values)\n",
        "print(\"Truncated values:\", trunc_values)\n",
        "print(\"Rounded values:\", round_values)\n"
      ],
      "metadata": {
        "colab": {
          "base_uri": "https://localhost:8080/"
        },
        "id": "5jESFQu7RW0y",
        "outputId": "61435b1b-07e3-4643-a17c-5528b2211ba7"
      },
      "execution_count": null,
      "outputs": [
        {
          "output_type": "stream",
          "name": "stdout",
          "text": [
            "Floor values: [-2. -2. -1.  0.  1.  1.  3.]\n",
            "Ceiling values: [-1. -1. -0.  1.  2.  2.  3.]\n",
            "Truncated values: [-1. -1. -0.  0.  1.  1.  3.]\n",
            "Rounded values: [-2. -2. -0.  0.  2.  2.  3.]\n"
          ]
        }
      ]
    },
    {
      "cell_type": "markdown",
      "source": [
        "Q-3 (a)"
      ],
      "metadata": {
        "id": "Quw9iixUSR1c"
      }
    },
    {
      "cell_type": "code",
      "source": [
        "import numpy as np\n",
        "array = np.array([10, 52, 62, 16, 16, 54, 453])\n",
        "sorted_array = np.sort(array)\n",
        "sorted_indices = np.argsort(array)\n",
        "#Get the indices of the 4 smallest elements\n",
        "smallest_indices = np.argsort(array)[:4]\n",
        "# Get the actual 4 smallest elements\n",
        "smallest_elements = array[smallest_indices]\n",
        "\n",
        "\n",
        "\n",
        "print(sorted_array)\n",
        "print(sorted_indices)\n",
        "print(smallest_elements)\n"
      ],
      "metadata": {
        "colab": {
          "base_uri": "https://localhost:8080/"
        },
        "id": "0CzY_x-MSYGi",
        "outputId": "960003ec-b5a8-4e58-fb1b-07a3ca2bfa78"
      },
      "execution_count": null,
      "outputs": [
        {
          "output_type": "stream",
          "name": "stdout",
          "text": [
            "[ 10  16  16  52  54  62 453]\n",
            "[0 3 4 1 5 2 6]\n",
            "[10 16 16 52]\n"
          ]
        }
      ]
    },
    {
      "cell_type": "code",
      "source": [
        "#SMALLEST 4 ELEMENTS\n",
        "import numpy as np\n",
        "array = np.array([10, 52, 62, 16, 16, 54, 453])\n",
        "sorted_array = np.sort(array)[:4]\n",
        "print(sorted_array)\n",
        "\n"
      ],
      "metadata": {
        "colab": {
          "base_uri": "https://localhost:8080/"
        },
        "id": "cHazq5MGU6S2",
        "outputId": "6ea03851-900c-4fbb-93f9-7e800393f0d2"
      },
      "execution_count": null,
      "outputs": [
        {
          "output_type": "stream",
          "name": "stdout",
          "text": [
            "[10 16 16 52]\n"
          ]
        }
      ]
    },
    {
      "cell_type": "code",
      "source": [
        "#LARGEST 5 ELEMENTS\n",
        "import numpy as np\n",
        "\n",
        "array = np.array([10, 52, 62, 16, 16, 54, 453])\n",
        "\n",
        "# Sort the array in descending order\n",
        "sorted_array = np.sort(array)[::-1]\n",
        "\n",
        "# Get the 5 largest elements\n",
        "largest_elements = sorted_array[:5]\n",
        "\n",
        "print(largest_elements)\n"
      ],
      "metadata": {
        "colab": {
          "base_uri": "https://localhost:8080/"
        },
        "id": "n6meH1ruV5dd",
        "outputId": "4e9dd72f-1574-45b5-ec68-28555a8ca34b"
      },
      "execution_count": null,
      "outputs": [
        {
          "output_type": "stream",
          "name": "stdout",
          "text": [
            "[453  62  54  52  16]\n"
          ]
        }
      ]
    },
    {
      "cell_type": "code",
      "source": [
        "Q-3 (b)"
      ],
      "metadata": {
        "id": "43P6CS4mYKSM"
      },
      "execution_count": null,
      "outputs": []
    },
    {
      "cell_type": "code",
      "source": [
        "import numpy as np\n",
        "array = np.array([1.0, 1.2, 2.2, 2.0, 3.0, 2.0])\n",
        "integer_elements = array[array == array.astype(int)]\n",
        "print(integer_elements)\n",
        "float_elements = array[array != array.astype(int)]\n",
        "print(float_elements)\n"
      ],
      "metadata": {
        "colab": {
          "base_uri": "https://localhost:8080/"
        },
        "id": "Y_mtYCGKYNMj",
        "outputId": "95adf023-d926-4bbb-cf4d-00e5479345ae"
      },
      "execution_count": null,
      "outputs": [
        {
          "output_type": "stream",
          "name": "stdout",
          "text": [
            "[1. 2. 3. 2.]\n",
            "[1.2 2.2]\n"
          ]
        }
      ]
    },
    {
      "cell_type": "markdown",
      "source": [
        "Q-4"
      ],
      "metadata": {
        "id": "hktNO2K5YyTM"
      }
    },
    {
      "cell_type": "code",
      "source": [
        "import numpy as np\n",
        "from PIL import Image\n",
        "\n",
        "def img_to_array(path):\n",
        "  \"\"\"\n",
        "  Reads an image from a specified path and saves it as a text file.\n",
        "\n",
        "  Args:\n",
        "    path: The path to the image file.\n",
        "\n",
        "  Returns:\n",
        "    None\n",
        "  \"\"\"\n",
        "\n",
        "  # Load the image using PIL\n",
        "  img = Image.open(path)\n",
        "\n",
        "  # Convert the image to a NumPy array\n",
        "  img_array = np.array(img)\n",
        "\n",
        "  # Get the file name without extension\n",
        "  file_name = path.split('/')[-1].split('.')[0]\n",
        "\n",
        "  # Save the array as a text file\n",
        "  np.savetxt(f\"{file_name}.txt\", img_array, fmt=\"%d\")\n",
        "\n",
        "# Example usage\n",
        "img_path = \"C:\\Users\\AKUL\\OneDrive\\Pictures\\taeri\\images (2).jpg\"\n",
        "img_to_array(img_path)\n"
      ],
      "metadata": {
        "colab": {
          "base_uri": "https://localhost:8080/",
          "height": 124
        },
        "id": "V59Dc71FYz3t",
        "outputId": "6b3684ac-0520-4c89-d9b4-bc90a7f58a8a"
      },
      "execution_count": null,
      "outputs": [
        {
          "output_type": "error",
          "ename": "SyntaxError",
          "evalue": "(unicode error) 'unicodeescape' codec can't decode bytes in position 2-3: truncated \\UXXXXXXXX escape (<ipython-input-17-472355a37d24>, line 28)",
          "traceback": [
            "\u001b[0;36m  File \u001b[0;32m\"<ipython-input-17-472355a37d24>\"\u001b[0;36m, line \u001b[0;32m28\u001b[0m\n\u001b[0;31m    img_path =\"C:\\Users\\AKUL\\OneDrive\\Pictures\\taeri\\images (2).jpg\"\u001b[0m\n\u001b[0m                                                                    ^\u001b[0m\n\u001b[0;31mSyntaxError\u001b[0m\u001b[0;31m:\u001b[0m (unicode error) 'unicodeescape' codec can't decode bytes in position 2-3: truncated \\UXXXXXXXX escape\n"
          ]
        }
      ]
    }
  ]
}